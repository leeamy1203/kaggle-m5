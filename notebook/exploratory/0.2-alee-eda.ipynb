{
 "cells": [
  {
   "cell_type": "markdown",
   "metadata": {},
   "source": [
    "# Indepth EDA\n",
    "Merging the three data sources to gain more insight and feature engineering"
   ]
  },
  {
   "cell_type": "code",
   "execution_count": 12,
   "metadata": {
    "ExecuteTime": {
     "end_time": "2020-05-23T17:15:16.674098Z",
     "start_time": "2020-05-23T17:15:16.585656Z"
    }
   },
   "outputs": [],
   "source": [
    "import os\n",
    "import sys\n",
    "# This should navigate to the repository root\n",
    "sys.path.append('../../')\n",
    "%reload_ext autoreload\n",
    "%autoreload 2\n",
    "\n",
    "import pandas as pd\n",
    "from tqdm.notebook import tqdm\n",
    "import seaborn as sns\n",
    "import matplotlib.pyplot as plt\n",
    "\n",
    "from src.data import DATA_DIR"
   ]
  },
  {
   "cell_type": "markdown",
   "metadata": {},
   "source": [
    "### Use the downcasted data"
   ]
  },
  {
   "cell_type": "code",
   "execution_count": 13,
   "metadata": {
    "ExecuteTime": {
     "end_time": "2020-05-23T17:15:32.345869Z",
     "start_time": "2020-05-23T17:15:31.421395Z"
    }
   },
   "outputs": [],
   "source": [
    "train_df = pd.read_pickle('../../data/interim/sales_train_validation.pkl')\n",
    "sales_df = pd.read_pickle('../../data/interim/sell_prices.pkl')\n",
    "calendar_df = pd.read_pickle('../../data/interim/calendar.pkl')"
   ]
  },
  {
   "cell_type": "code",
   "execution_count": null,
   "metadata": {},
   "outputs": [],
   "source": [
    "FEATURES = [\"dept_id\", \"weekday\", \"month\", \"year\", \"event_name\", \"event_type\", \"snap\", \"sell_prices\"]"
   ]
  },
  {
   "cell_type": "markdown",
   "metadata": {
    "ExecuteTime": {
     "end_time": "2020-05-23T17:24:42.176814Z",
     "start_time": "2020-05-23T17:24:42.113069Z"
    }
   },
   "source": [
    "## Compare by weekdays\n",
    " - days range from d_1 to d_1913\n",
    " - list below shows the matching of the first 7 days to the weekdays. "
   ]
  },
  {
   "cell_type": "code",
   "execution_count": 119,
   "metadata": {
    "ExecuteTime": {
     "end_time": "2020-05-23T18:22:44.002607Z",
     "start_time": "2020-05-23T18:22:43.894167Z"
    }
   },
   "outputs": [
    {
     "data": {
      "text/html": [
       "<div>\n",
       "<style scoped>\n",
       "    .dataframe tbody tr th:only-of-type {\n",
       "        vertical-align: middle;\n",
       "    }\n",
       "\n",
       "    .dataframe tbody tr th {\n",
       "        vertical-align: top;\n",
       "    }\n",
       "\n",
       "    .dataframe thead th {\n",
       "        text-align: right;\n",
       "    }\n",
       "</style>\n",
       "<table border=\"1\" class=\"dataframe\">\n",
       "  <thead>\n",
       "    <tr style=\"text-align: right;\">\n",
       "      <th></th>\n",
       "      <th>date</th>\n",
       "      <th>wm_yr_wk</th>\n",
       "      <th>wday</th>\n",
       "      <th>month</th>\n",
       "      <th>year</th>\n",
       "      <th>d</th>\n",
       "      <th>event_name_1</th>\n",
       "      <th>event_type_1</th>\n",
       "      <th>event_name_2</th>\n",
       "      <th>event_type_2</th>\n",
       "      <th>snap_CA</th>\n",
       "      <th>snap_TX</th>\n",
       "      <th>snap_WI</th>\n",
       "    </tr>\n",
       "    <tr>\n",
       "      <th>weekday</th>\n",
       "      <th></th>\n",
       "      <th></th>\n",
       "      <th></th>\n",
       "      <th></th>\n",
       "      <th></th>\n",
       "      <th></th>\n",
       "      <th></th>\n",
       "      <th></th>\n",
       "      <th></th>\n",
       "      <th></th>\n",
       "      <th></th>\n",
       "      <th></th>\n",
       "      <th></th>\n",
       "    </tr>\n",
       "  </thead>\n",
       "  <tbody>\n",
       "    <tr>\n",
       "      <th>Saturday</th>\n",
       "      <td>2011-01-29</td>\n",
       "      <td>11101</td>\n",
       "      <td>1</td>\n",
       "      <td>1</td>\n",
       "      <td>2011</td>\n",
       "      <td>d_1</td>\n",
       "      <td>NaN</td>\n",
       "      <td>NaN</td>\n",
       "      <td>NaN</td>\n",
       "      <td>NaN</td>\n",
       "      <td>0</td>\n",
       "      <td>0</td>\n",
       "      <td>0</td>\n",
       "    </tr>\n",
       "    <tr>\n",
       "      <th>Sunday</th>\n",
       "      <td>2011-01-30</td>\n",
       "      <td>11101</td>\n",
       "      <td>2</td>\n",
       "      <td>1</td>\n",
       "      <td>2011</td>\n",
       "      <td>d_2</td>\n",
       "      <td>NaN</td>\n",
       "      <td>NaN</td>\n",
       "      <td>NaN</td>\n",
       "      <td>NaN</td>\n",
       "      <td>0</td>\n",
       "      <td>0</td>\n",
       "      <td>0</td>\n",
       "    </tr>\n",
       "    <tr>\n",
       "      <th>Monday</th>\n",
       "      <td>2011-01-31</td>\n",
       "      <td>11101</td>\n",
       "      <td>3</td>\n",
       "      <td>1</td>\n",
       "      <td>2011</td>\n",
       "      <td>d_3</td>\n",
       "      <td>NaN</td>\n",
       "      <td>NaN</td>\n",
       "      <td>NaN</td>\n",
       "      <td>NaN</td>\n",
       "      <td>0</td>\n",
       "      <td>0</td>\n",
       "      <td>0</td>\n",
       "    </tr>\n",
       "    <tr>\n",
       "      <th>Tuesday</th>\n",
       "      <td>2011-02-01</td>\n",
       "      <td>11101</td>\n",
       "      <td>4</td>\n",
       "      <td>2</td>\n",
       "      <td>2011</td>\n",
       "      <td>d_4</td>\n",
       "      <td>NaN</td>\n",
       "      <td>NaN</td>\n",
       "      <td>NaN</td>\n",
       "      <td>NaN</td>\n",
       "      <td>1</td>\n",
       "      <td>1</td>\n",
       "      <td>0</td>\n",
       "    </tr>\n",
       "    <tr>\n",
       "      <th>Wednesday</th>\n",
       "      <td>2011-02-02</td>\n",
       "      <td>11101</td>\n",
       "      <td>5</td>\n",
       "      <td>2</td>\n",
       "      <td>2011</td>\n",
       "      <td>d_5</td>\n",
       "      <td>NaN</td>\n",
       "      <td>NaN</td>\n",
       "      <td>NaN</td>\n",
       "      <td>NaN</td>\n",
       "      <td>1</td>\n",
       "      <td>0</td>\n",
       "      <td>1</td>\n",
       "    </tr>\n",
       "    <tr>\n",
       "      <th>Thursday</th>\n",
       "      <td>2011-02-03</td>\n",
       "      <td>11101</td>\n",
       "      <td>6</td>\n",
       "      <td>2</td>\n",
       "      <td>2011</td>\n",
       "      <td>d_6</td>\n",
       "      <td>NaN</td>\n",
       "      <td>NaN</td>\n",
       "      <td>NaN</td>\n",
       "      <td>NaN</td>\n",
       "      <td>1</td>\n",
       "      <td>1</td>\n",
       "      <td>1</td>\n",
       "    </tr>\n",
       "    <tr>\n",
       "      <th>Friday</th>\n",
       "      <td>2011-02-04</td>\n",
       "      <td>11101</td>\n",
       "      <td>7</td>\n",
       "      <td>2</td>\n",
       "      <td>2011</td>\n",
       "      <td>d_7</td>\n",
       "      <td>NaN</td>\n",
       "      <td>NaN</td>\n",
       "      <td>NaN</td>\n",
       "      <td>NaN</td>\n",
       "      <td>1</td>\n",
       "      <td>0</td>\n",
       "      <td>0</td>\n",
       "    </tr>\n",
       "  </tbody>\n",
       "</table>\n",
       "</div>"
      ],
      "text/plain": [
       "                date  wm_yr_wk  wday  month  year    d event_name_1  \\\n",
       "weekday                                                               \n",
       "Saturday  2011-01-29     11101     1      1  2011  d_1          NaN   \n",
       "Sunday    2011-01-30     11101     2      1  2011  d_2          NaN   \n",
       "Monday    2011-01-31     11101     3      1  2011  d_3          NaN   \n",
       "Tuesday   2011-02-01     11101     4      2  2011  d_4          NaN   \n",
       "Wednesday 2011-02-02     11101     5      2  2011  d_5          NaN   \n",
       "Thursday  2011-02-03     11101     6      2  2011  d_6          NaN   \n",
       "Friday    2011-02-04     11101     7      2  2011  d_7          NaN   \n",
       "\n",
       "          event_type_1 event_name_2 event_type_2  snap_CA  snap_TX  snap_WI  \n",
       "weekday                                                                      \n",
       "Saturday           NaN          NaN          NaN        0        0        0  \n",
       "Sunday             NaN          NaN          NaN        0        0        0  \n",
       "Monday             NaN          NaN          NaN        0        0        0  \n",
       "Tuesday            NaN          NaN          NaN        1        1        0  \n",
       "Wednesday          NaN          NaN          NaN        1        0        1  \n",
       "Thursday           NaN          NaN          NaN        1        1        1  \n",
       "Friday             NaN          NaN          NaN        1        0        0  "
      ]
     },
     "execution_count": 119,
     "metadata": {},
     "output_type": "execute_result"
    }
   ],
   "source": [
    "first_seven = calendar_df.head(7).groupby('weekday').first()\n",
    "first_seven.sort_values(by=[\"wday\"])"
   ]
  },
  {
   "cell_type": "code",
   "execution_count": 545,
   "metadata": {
    "ExecuteTime": {
     "end_time": "2020-05-23T20:54:41.421538Z",
     "start_time": "2020-05-23T20:54:40.710293Z"
    }
   },
   "outputs": [
    {
     "data": {
      "text/html": [
       "<div>\n",
       "<style scoped>\n",
       "    .dataframe tbody tr th:only-of-type {\n",
       "        vertical-align: middle;\n",
       "    }\n",
       "\n",
       "    .dataframe tbody tr th {\n",
       "        vertical-align: top;\n",
       "    }\n",
       "\n",
       "    .dataframe thead th {\n",
       "        text-align: right;\n",
       "    }\n",
       "</style>\n",
       "<table border=\"1\" class=\"dataframe\">\n",
       "  <thead>\n",
       "    <tr style=\"text-align: right;\">\n",
       "      <th></th>\n",
       "      <th>dept_id</th>\n",
       "      <th>days</th>\n",
       "      <th>value</th>\n",
       "    </tr>\n",
       "  </thead>\n",
       "  <tbody>\n",
       "    <tr>\n",
       "      <th>0</th>\n",
       "      <td>FOODS_1</td>\n",
       "      <td>total_friday</td>\n",
       "      <td>768706</td>\n",
       "    </tr>\n",
       "    <tr>\n",
       "      <th>1</th>\n",
       "      <td>FOODS_2</td>\n",
       "      <td>total_friday</td>\n",
       "      <td>1012133</td>\n",
       "    </tr>\n",
       "    <tr>\n",
       "      <th>2</th>\n",
       "      <td>FOODS_3</td>\n",
       "      <td>total_friday</td>\n",
       "      <td>4570273</td>\n",
       "    </tr>\n",
       "    <tr>\n",
       "      <th>3</th>\n",
       "      <td>HOBBIES_1</td>\n",
       "      <td>total_friday</td>\n",
       "      <td>832723</td>\n",
       "    </tr>\n",
       "    <tr>\n",
       "      <th>4</th>\n",
       "      <td>HOBBIES_2</td>\n",
       "      <td>total_friday</td>\n",
       "      <td>74682</td>\n",
       "    </tr>\n",
       "  </tbody>\n",
       "</table>\n",
       "</div>"
      ],
      "text/plain": [
       "     dept_id          days    value\n",
       "0    FOODS_1  total_friday   768706\n",
       "1    FOODS_2  total_friday  1012133\n",
       "2    FOODS_3  total_friday  4570273\n",
       "3  HOBBIES_1  total_friday   832723\n",
       "4  HOBBIES_2  total_friday    74682"
      ]
     },
     "execution_count": 545,
     "metadata": {},
     "output_type": "execute_result"
    }
   ],
   "source": [
    "weekdays = np.unique(calendar_df['weekday'])\n",
    "day_max = 1913\n",
    "\n",
    "# find corresponding days to weekdays\n",
    "weekdays_map = {w: [\"d_{}\".format(i) for i in np.arange(first_seven.loc[w].wday, day_max + 1, 7)] for w in weekdays}\n",
    "for w in weekdays:\n",
    "    train_df[\"total_{}\".format(w.lower())] = train_df[weekdays_map[w]].sum(axis=1)\n",
    "columns = [\"total_{}\".format(w.lower()) for w in weekdays]\n",
    "\n",
    "# sum by dept_id and days of the week\n",
    "summed = train_df.groupby('dept_id').sum()[columns].reset_index()\n",
    "restuctured_sum = pd.melt(summed, id_vars=[\"dept_id\"], var_name='days')\n",
    "restuctured_sum.head()"
   ]
  },
  {
   "cell_type": "markdown",
   "metadata": {},
   "source": [
    "### Looking at it per days\n",
    "- No shift in the ratio of type of product sold\n",
    "- No suprise. It was obvious but more sales on the weekend"
   ]
  },
  {
   "cell_type": "code",
   "execution_count": 546,
   "metadata": {
    "ExecuteTime": {
     "end_time": "2020-05-23T20:54:43.458921Z",
     "start_time": "2020-05-23T20:54:42.455988Z"
    }
   },
   "outputs": [
    {
     "data": {
      "image/png": "[encoded data removed]",
      "text/plain": [
       "<Figure size 720x360 with 2 Axes>"
      ]
     },
     "metadata": {
      "needs_background": "light"
     },
     "output_type": "display_data"
    }
   ],
   "source": [
    "fig, ax = plt.subplots(1, 2, figsize=(10,5))\n",
    "sns.pointplot(x='value', y='dept_id', data=restuctured_sum, hue='days', ax=ax[0])\n",
    "ax[0].legend()\n",
    "sns.barplot(y='days', x='value', data=restuctured_sum.groupby(['days']).sum().reset_index().sort_values(by=[\"value\"]), ax=ax[1])\n",
    "fig.tight_layout()"
   ]
  },
  {
   "cell_type": "markdown",
   "metadata": {
    "ExecuteTime": {
     "end_time": "2020-05-23T18:23:05.936332Z",
     "start_time": "2020-05-23T18:23:00.708203Z"
    }
   },
   "source": [
    "## Compare by month"
   ]
  },
  {
   "cell_type": "code",
   "execution_count": 549,
   "metadata": {
    "ExecuteTime": {
     "end_time": "2020-05-23T20:55:12.267356Z",
     "start_time": "2020-05-23T20:55:12.158351Z"
    }
   },
   "outputs": [],
   "source": [
    "train_days = ['d_{}'.format(i) for i in np.arange(1, day_max+1, 1)]\n",
    "train_calendar_df = calendar_df.loc[calendar_df[\"d\"].isin(train_days)]\n",
    "\n",
    "months = np.unique(train_calendar_df[\"month\"])\n",
    "assert len(months) == 12\n",
    "months.sort()\n",
    "months_map = [train_calendar_df.loc[train_calendar_df[\"month\"] == m]['d'].values for m in months]"
   ]
  },
  {
   "cell_type": "code",
   "execution_count": 554,
   "metadata": {
    "ExecuteTime": {
     "end_time": "2020-05-23T20:55:52.999209Z",
     "start_time": "2020-05-23T20:55:52.128010Z"
    }
   },
   "outputs": [
    {
     "data": {
      "text/html": [
       "<div>\n",
       "<style scoped>\n",
       "    .dataframe tbody tr th:only-of-type {\n",
       "        vertical-align: middle;\n",
       "    }\n",
       "\n",
       "    .dataframe tbody tr th {\n",
       "        vertical-align: top;\n",
       "    }\n",
       "\n",
       "    .dataframe thead th {\n",
       "        text-align: right;\n",
       "    }\n",
       "</style>\n",
       "<table border=\"1\" class=\"dataframe\">\n",
       "  <thead>\n",
       "    <tr style=\"text-align: right;\">\n",
       "      <th></th>\n",
       "      <th>dept_id</th>\n",
       "      <th>state_id</th>\n",
       "      <th>month</th>\n",
       "      <th>value</th>\n",
       "    </tr>\n",
       "  </thead>\n",
       "  <tbody>\n",
       "    <tr>\n",
       "      <th>0</th>\n",
       "      <td>FOODS_1</td>\n",
       "      <td>CA</td>\n",
       "      <td>total_1</td>\n",
       "      <td>193887</td>\n",
       "    </tr>\n",
       "    <tr>\n",
       "      <th>1</th>\n",
       "      <td>FOODS_1</td>\n",
       "      <td>TX</td>\n",
       "      <td>total_1</td>\n",
       "      <td>113644</td>\n",
       "    </tr>\n",
       "    <tr>\n",
       "      <th>2</th>\n",
       "      <td>FOODS_1</td>\n",
       "      <td>WI</td>\n",
       "      <td>total_1</td>\n",
       "      <td>120177</td>\n",
       "    </tr>\n",
       "    <tr>\n",
       "      <th>3</th>\n",
       "      <td>FOODS_2</td>\n",
       "      <td>CA</td>\n",
       "      <td>total_1</td>\n",
       "      <td>262079</td>\n",
       "    </tr>\n",
       "    <tr>\n",
       "      <th>4</th>\n",
       "      <td>FOODS_2</td>\n",
       "      <td>TX</td>\n",
       "      <td>total_1</td>\n",
       "      <td>184329</td>\n",
       "    </tr>\n",
       "  </tbody>\n",
       "</table>\n",
       "</div>"
      ],
      "text/plain": [
       "   dept_id state_id    month   value\n",
       "0  FOODS_1       CA  total_1  193887\n",
       "1  FOODS_1       TX  total_1  113644\n",
       "2  FOODS_1       WI  total_1  120177\n",
       "3  FOODS_2       CA  total_1  262079\n",
       "4  FOODS_2       TX  total_1  184329"
      ]
     },
     "execution_count": 554,
     "metadata": {},
     "output_type": "execute_result"
    }
   ],
   "source": [
    "for m in months:\n",
    "    train_df[\"total_{}\".format(m)] = train_df[months_map[m-1]].sum(axis=1)\n",
    "columns = [\"total_{}\".format(m) for m in months]\n",
    "summed = train_df.groupby(['dept_id', 'state_id']).sum()[columns].reset_index()\n",
    "restuctured_sum = pd.melt(summed, id_vars=[\"dept_id\", 'state_id'], var_name='month')\n",
    "restuctured_sum.head()"
   ]
  },
  {
   "cell_type": "markdown",
   "metadata": {},
   "source": [
    "## Plots\n",
    "- similar results with the weekdays interms of the types of items sold\n",
    "- certain months have more sales.. perhaps has to do with holidays"
   ]
  },
  {
   "cell_type": "code",
   "execution_count": 560,
   "metadata": {
    "ExecuteTime": {
     "end_time": "2020-05-23T20:57:07.785237Z",
     "start_time": "2020-05-23T20:57:03.559409Z"
    }
   },
   "outputs": [
    {
     "data": {
      "image/png": "[encoded data removed]",
      "text/plain": [
       "<Figure size 720x360 with 2 Axes>"
      ]
     },
     "metadata": {
      "needs_background": "light"
     },
     "output_type": "display_data"
    }
   ],
   "source": [
    "fig, ax = plt.subplots(1, 2, figsize=(10,5))\n",
    "sns.pointplot(x='value', y='dept_id', data=restuctured_sum, hue='month', ax=ax[0])\n",
    "ax[0].legend(loc=(1,0))\n",
    "\n",
    "sns.barplot(y='month', x='value', \n",
    "            data=restuctured_sum.groupby(['month']).sum().reset_index().sort_values(by=[\"value\"]), ax=ax[1])\n",
    "fig.tight_layout()"
   ]
  },
  {
   "cell_type": "markdown",
   "metadata": {},
   "source": [
    "## Scaled avg by the state\n",
    " - perhaps weather plays a role?"
   ]
  },
  {
   "cell_type": "code",
   "execution_count": 598,
   "metadata": {
    "ExecuteTime": {
     "end_time": "2020-05-23T21:11:28.706373Z",
     "start_time": "2020-05-23T21:11:27.635457Z"
    }
   },
   "outputs": [
    {
     "data": {
      "text/plain": [
       "<matplotlib.legend.Legend at 0x7f392ce5c450>"
      ]
     },
     "execution_count": 598,
     "metadata": {},
     "output_type": "execute_result"
    },
    {
     "data": {
      "image/png": "[encoded data removed]",
      "text/plain": [
       "<Figure size 432x288 with 1 Axes>"
      ]
     },
     "metadata": {
      "needs_background": "light"
     },
     "output_type": "display_data"
    }
   ],
   "source": [
    "from sklearn.preprocessing import MinMaxScaler\n",
    "avged = train_df.groupby(['dept_id', 'state_id']).mean()[columns].reset_index()\n",
    "restuctured_avg = pd.melt(avged, id_vars=[\"dept_id\", 'state_id'], var_name='month')\n",
    "restuctured_avg.head()\n",
    "data = restuctured_avg.groupby(['state_id', 'month']).mean().reset_index()\n",
    "for state in [\"CA\", \"WI\", \"TX\"]:\n",
    "    data.loc[data[\"state_id\"]==state, \"scaled\"] = MinMaxScaler().fit_transform(data.loc[data[\"state_id\"] == state][['value']])\n",
    "    \n",
    "colors =['red', 'blue', 'orange']\n",
    "fig, ax = plt.subplots(1,1, figsize=(6,4))\n",
    "for i, state in enumerate([\"CA\", \"TX\", \"WI\"]):\n",
    "    sns.pointplot(y='month', x='scaled', \n",
    "                  data=data.loc[data[\"state_id\"]==state].groupby(['month']).mean().reset_index(),\n",
    "                  color=colors[i], label=state)\n",
    "    sns.scatterplot(y='month', x='scaled', \n",
    "                  data=data.loc[data[\"state_id\"]==state].groupby(['month']).mean().reset_index(),\n",
    "                  color=colors[i], label=state)\n",
    "ax.legend()"
   ]
  },
  {
   "cell_type": "markdown",
   "metadata": {},
   "source": [
    "### Understanding events"
   ]
  },
  {
   "cell_type": "code",
   "execution_count": 279,
   "metadata": {
    "ExecuteTime": {
     "end_time": "2020-05-23T18:55:45.583864Z",
     "start_time": "2020-05-23T18:55:45.509073Z"
    }
   },
   "outputs": [
    {
     "name": "stdout",
     "output_type": "stream",
     "text": [
      "8.05% of days make up event days\n"
     ]
    }
   ],
   "source": [
    "event_calendar = train_calendar_df.loc[~pd.isnull(train_calendar_df[\"event_type_1\"])]\n",
    "events = event_calendar.drop_duplicates(subset=[\"event_name_1\"])['event_name_1'].values\n",
    "print(\"{}% of days make up event days\".format(np.round(event_calendar.shape[0] / train_calendar_df.shape[0] *100, 2)))"
   ]
  },
  {
   "cell_type": "markdown",
   "metadata": {},
   "source": [
    "The months sale have nothing to do with the events"
   ]
  },
  {
   "cell_type": "code",
   "execution_count": 268,
   "metadata": {
    "ExecuteTime": {
     "end_time": "2020-05-23T18:53:59.200557Z",
     "start_time": "2020-05-23T18:53:58.691356Z"
    }
   },
   "outputs": [
    {
     "data": {
      "image/png": "[encoded data removed]",
      "text/plain": [
       "<Figure size 576x432 with 2 Axes>"
      ]
     },
     "metadata": {
      "needs_background": "light"
     },
     "output_type": "display_data"
    }
   ],
   "source": [
    "fig, ax = plt.subplots(2, 1, figsize=(8, 6))\n",
    "sns.barplot(x='month', y='date', \n",
    "            data=event_calendar.groupby('month').count()[\"date\"].reset_index().sort_values(by=[\"date\"]),\n",
    "            ax=ax[0])\n",
    "ax[0].set(title=\"Number of events by month\")\n",
    "sns.pointplot(y='value', x='month', \n",
    "              data=restuctured_sum.groupby(['month']).sum().reset_index().sort_values(by=[\"month\"]),\n",
    "              ax=ax[1])\n",
    "ax[1].set(title=\"Number of sales by month\")\n",
    "fig.tight_layout()"
   ]
  },
  {
   "cell_type": "markdown",
   "metadata": {},
   "source": [
    "### Do events fall under weekends usually?\n",
    "- Emphasis on Monday and Sunday"
   ]
  },
  {
   "cell_type": "code",
   "execution_count": 238,
   "metadata": {
    "ExecuteTime": {
     "end_time": "2020-05-23T18:48:16.015243Z",
     "start_time": "2020-05-23T18:48:15.793218Z"
    }
   },
   "outputs": [
    {
     "data": {
      "text/plain": [
       "<matplotlib.axes._subplots.AxesSubplot at 0x7f39369c7f50>"
      ]
     },
     "execution_count": 238,
     "metadata": {},
     "output_type": "execute_result"
    },
    {
     "data": {
      "image/png": "[encoded data removed]",
      "text/plain": [
       "<Figure size 432x288 with 1 Axes>"
      ]
     },
     "metadata": {
      "needs_background": "light"
     },
     "output_type": "display_data"
    }
   ],
   "source": [
    "sns.barplot(y='weekday', x='date', \n",
    "            data=event_calendar.groupby('weekday').count()[\"date\"].reset_index())"
   ]
  },
  {
   "cell_type": "markdown",
   "metadata": {},
   "source": [
    "## Are there more sales during event days?\n",
    "- Average sales are less during the event days\n",
    "- Perhaps people are celebrating that day and we want to look at days leading up to the event"
   ]
  },
  {
   "cell_type": "code",
   "execution_count": 308,
   "metadata": {
    "ExecuteTime": {
     "end_time": "2020-05-23T19:03:31.002449Z",
     "start_time": "2020-05-23T19:03:30.562456Z"
    }
   },
   "outputs": [
    {
     "data": {
      "text/plain": [
       "<matplotlib.axes._subplots.AxesSubplot at 0x7f393c5e1050>"
      ]
     },
     "execution_count": 308,
     "metadata": {},
     "output_type": "execute_result"
    },
    {
     "data": {
      "image/png": "[encoded data removed]",
      "text/plain": [
       "<Figure size 432x288 with 1 Axes>"
      ]
     },
     "metadata": {
      "needs_background": "light"
     },
     "output_type": "display_data"
    }
   ],
   "source": [
    "event_days = event_calendar[\"d\"].values\n",
    "all_days = [\"d_{}\".format(i) for i in np.arange(1, day_max+1, 1)]\n",
    "non_event_days = [d for d in all_days if d not in event_days]\n",
    "\n",
    "train_df[\"avg_event_sales\"] = train_df[event_days].mean(axis=1)\n",
    "train_df[\"avg_non_event_sales\"] = train_df[non_event_days].mean(axis=1)\n",
    "\n",
    "sns.barplot(y='dept_id', x='value', hue='event',\n",
    "            data=pd.melt(train_df.groupby('dept_id')[[\"avg_event_sales\", 'avg_non_event_sales']].mean().reset_index(),\n",
    "                         id_vars='dept_id', var_name='event'))"
   ]
  },
  {
   "cell_type": "markdown",
   "metadata": {},
   "source": [
    "## Do days leading up to events have more sale?\n",
    "check day before and see if it's more than usual"
   ]
  },
  {
   "cell_type": "code",
   "execution_count": 525,
   "metadata": {
    "ExecuteTime": {
     "end_time": "2020-05-23T20:49:42.251555Z",
     "start_time": "2020-05-23T20:49:41.851354Z"
    }
   },
   "outputs": [
    {
     "data": {
      "text/plain": [
       "<matplotlib.axes._subplots.AxesSubplot at 0x7f392fc6b790>"
      ]
     },
     "execution_count": 525,
     "metadata": {},
     "output_type": "execute_result"
    },
    {
     "data": {
      "image/png": "[encoded data removed]",
      "text/plain": [
       "<Figure size 432x288 with 1 Axes>"
      ]
     },
     "metadata": {
      "needs_background": "light"
     },
     "output_type": "display_data"
    }
   ],
   "source": [
    "event_days = event_calendar[\"d\"].values\n",
    "day_before_event_days = [\"d_{}\".format( int(i.split(\"_\")[1]) - 1 ) for i in event_days]\n",
    "other_days = [d for d in all_days if d not in day_before_event_days]\n",
    "\n",
    "train_df[\"avg_before_event_sales\"] = train_df[day_before_event_days].mean(axis=1)\n",
    "train_df[\"avg_other_sales\"] = train_df[other_days].mean(axis=1)\n",
    "\n",
    "sns.barplot(y='dept_id', x='value', hue='event',\n",
    "            data=pd.melt(train_df.groupby('dept_id')[[\"avg_before_event_sales\", 'avg_other_sales']].mean().reset_index(),\n",
    "                         id_vars='dept_id', var_name='event'))"
   ]
  },
  {
   "cell_type": "markdown",
   "metadata": {},
   "source": [
    "### Sales by event_type on the day before the event"
   ]
  },
  {
   "cell_type": "code",
   "execution_count": 527,
   "metadata": {
    "ExecuteTime": {
     "end_time": "2020-05-23T20:49:59.284327Z",
     "start_time": "2020-05-23T20:49:58.932409Z"
    }
   },
   "outputs": [
    {
     "data": {
      "text/plain": [
       "<matplotlib.axes._subplots.AxesSubplot at 0x7f392fed4950>"
      ]
     },
     "execution_count": 527,
     "metadata": {},
     "output_type": "execute_result"
    },
    {
     "data": {
      "image/png": "[encoded data removed]",
      "text/plain": [
       "<Figure size 432x288 with 1 Axes>"
      ]
     },
     "metadata": {
      "needs_background": "light"
     },
     "output_type": "display_data"
    }
   ],
   "source": [
    "event_types = np.unique(event_calendar['event_type_1'])\n",
    "days_by_event = {t: event_calendar.loc[event_calendar[\"event_type_1\"]==t][\"d\"].values for t in event_types}\n",
    "days_before_event = {event: [\"d_{}\".format(int(i.split(\"_\")[1]) - 1) for i in days_by_event[event]] for event in days_by_event}\n",
    "sales_by_event_type = None\n",
    "for e in event_types:\n",
    "    event_sum = train_df.groupby('cat_id')[days_before_event[e]].sum().sum(axis=1)\\\n",
    "        .reset_index().rename(columns={0: \"{}_sales\".format(e.lower())})\n",
    "    if sales_by_event_type is None:\n",
    "        sales_by_event_type = event_sum\n",
    "    else:\n",
    "        sales_by_event_type = sales_by_event_type.merge(event_sum, on=[\"cat_id\"])\n",
    "sales_by_event_type = pd.melt(sales_by_event_type, id_vars='cat_id', var_name='event_type')\n",
    "sns.barplot(x='cat_id', y='value', hue='event_type', data=sales_by_event_type)"
   ]
  },
  {
   "cell_type": "markdown",
   "metadata": {},
   "source": [
    "## sales by SNAP\n",
    " - more sales on snap days. Increases are different per state"
   ]
  },
  {
   "cell_type": "code",
   "execution_count": 632,
   "metadata": {
    "ExecuteTime": {
     "end_time": "2020-05-23T21:19:21.294119Z",
     "start_time": "2020-05-23T21:19:20.984690Z"
    }
   },
   "outputs": [
    {
     "data": {
      "text/html": [
       "<div>\n",
       "<style scoped>\n",
       "    .dataframe tbody tr th:only-of-type {\n",
       "        vertical-align: middle;\n",
       "    }\n",
       "\n",
       "    .dataframe tbody tr th {\n",
       "        vertical-align: top;\n",
       "    }\n",
       "\n",
       "    .dataframe thead th {\n",
       "        text-align: right;\n",
       "    }\n",
       "</style>\n",
       "<table border=\"1\" class=\"dataframe\">\n",
       "  <thead>\n",
       "    <tr style=\"text-align: right;\">\n",
       "      <th></th>\n",
       "      <th>state</th>\n",
       "      <th>avg_snap</th>\n",
       "      <th>avg_non_snap</th>\n",
       "      <th>increase</th>\n",
       "    </tr>\n",
       "  </thead>\n",
       "  <tbody>\n",
       "    <tr>\n",
       "      <th>0</th>\n",
       "      <td>CA</td>\n",
       "      <td>15771.885714</td>\n",
       "      <td>14605.813718</td>\n",
       "      <td>1.079836</td>\n",
       "    </tr>\n",
       "    <tr>\n",
       "      <th>1</th>\n",
       "      <td>WI</td>\n",
       "      <td>10763.577778</td>\n",
       "      <td>8838.505066</td>\n",
       "      <td>1.217805</td>\n",
       "    </tr>\n",
       "    <tr>\n",
       "      <th>2</th>\n",
       "      <td>TX</td>\n",
       "      <td>10612.734921</td>\n",
       "      <td>9519.082619</td>\n",
       "      <td>1.114891</td>\n",
       "    </tr>\n",
       "  </tbody>\n",
       "</table>\n",
       "</div>"
      ],
      "text/plain": [
       "  state      avg_snap  avg_non_snap  increase\n",
       "0    CA  15771.885714  14605.813718  1.079836\n",
       "1    WI  10763.577778   8838.505066  1.217805\n",
       "2    TX  10612.734921   9519.082619  1.114891"
      ]
     },
     "metadata": {},
     "output_type": "display_data"
    },
    {
     "name": "stdout",
     "output_type": "stream",
     "text": [
      "32.93% are CA Snap days\n",
      "32.93% are WI Snap days\n",
      "32.93% are TX Snap days\n"
     ]
    }
   ],
   "source": [
    "snap_days_by_state = {\n",
    "    \"CA\": train_calendar_df.loc[train_calendar_df[\"snap_CA\"] > 0][\"d\"].values,\n",
    "    \"TX\": train_calendar_df.loc[train_calendar_df[\"snap_TX\"] > 0][\"d\"].values,\n",
    "    \"WI\": train_calendar_df.loc[train_calendar_df[\"snap_WI\"] > 0][\"d\"].values\n",
    "}\n",
    "non_snap_days_by_state = {\n",
    "    \"CA\": train_calendar_df.loc[train_calendar_df[\"snap_CA\"] == 0][\"d\"].values,\n",
    "    \"TX\": train_calendar_df.loc[train_calendar_df[\"snap_TX\"] == 0][\"d\"].values,\n",
    "    \"WI\": train_calendar_df.loc[train_calendar_df[\"snap_WI\"] == 0][\"d\"].values\n",
    "}\n",
    "snap_vs_not = []\n",
    "for state in ['CA', 'WI', 'TX']:\n",
    "    snap_vs_not.append([state, \n",
    "                        train_df.loc[train_df[\"state_id\"] == state][snap_days_by_state[state]].sum().mean(),\n",
    "                        train_df.loc[train_df[\"state_id\"] == state][non_snap_days_by_state[state]].sum().mean()])\n",
    "snap_df = pd.DataFrame(snap_vs_not, columns=[\"state\", 'avg_snap', 'avg_non_snap'])\n",
    "snap_df[\"increase\"] = snap_df[\"avg_snap\"] / snap_df[\"avg_non_snap\"]\n",
    "display(snap_df)\n",
    "\n",
    "print(\"{}% are CA Snap days\".format(np.round(len(snap_days_by_state['CA'])/len(day_column)*100, 2)))\n",
    "print(\"{}% are WI Snap days\".format(np.round(len(snap_days_by_state['WI'])/len(day_column)*100, 2)))\n",
    "print(\"{}% are TX Snap days\".format(np.round(len(snap_days_by_state['TX'])/len(day_column)*100, 2)))\n"
   ]
  },
  {
   "cell_type": "markdown",
   "metadata": {},
   "source": [
    "### Price correlation to sales"
   ]
  },
  {
   "cell_type": "code",
   "execution_count": 634,
   "metadata": {
    "ExecuteTime": {
     "end_time": "2020-05-23T21:19:55.771767Z",
     "start_time": "2020-05-23T21:19:55.650550Z"
    }
   },
   "outputs": [
    {
     "data": {
      "text/html": [
       "<div>\n",
       "<style scoped>\n",
       "    .dataframe tbody tr th:only-of-type {\n",
       "        vertical-align: middle;\n",
       "    }\n",
       "\n",
       "    .dataframe tbody tr th {\n",
       "        vertical-align: top;\n",
       "    }\n",
       "\n",
       "    .dataframe thead th {\n",
       "        text-align: right;\n",
       "    }\n",
       "</style>\n",
       "<table border=\"1\" class=\"dataframe\">\n",
       "  <thead>\n",
       "    <tr style=\"text-align: right;\">\n",
       "      <th></th>\n",
       "      <th>id</th>\n",
       "      <th>item_id</th>\n",
       "      <th>dept_id</th>\n",
       "      <th>cat_id</th>\n",
       "      <th>store_id</th>\n",
       "      <th>state_id</th>\n",
       "      <th>d_1</th>\n",
       "      <th>d_2</th>\n",
       "      <th>d_3</th>\n",
       "      <th>d_4</th>\n",
       "      <th>...</th>\n",
       "      <th>total_9</th>\n",
       "      <th>total_10</th>\n",
       "      <th>total_11</th>\n",
       "      <th>total_12</th>\n",
       "      <th>event_sales</th>\n",
       "      <th>non_event_sales</th>\n",
       "      <th>avg_event_sales</th>\n",
       "      <th>avg_non_event_sales</th>\n",
       "      <th>avg_before_event_sales</th>\n",
       "      <th>avg_other_sales</th>\n",
       "    </tr>\n",
       "  </thead>\n",
       "  <tbody>\n",
       "    <tr>\n",
       "      <th>0</th>\n",
       "      <td>HOBBIES_1_001_CA_1_validation</td>\n",
       "      <td>HOBBIES_1_001</td>\n",
       "      <td>HOBBIES_1</td>\n",
       "      <td>HOBBIES</td>\n",
       "      <td>CA_1</td>\n",
       "      <td>CA</td>\n",
       "      <td>0</td>\n",
       "      <td>0</td>\n",
       "      <td>0</td>\n",
       "      <td>0</td>\n",
       "      <td>...</td>\n",
       "      <td>56</td>\n",
       "      <td>50</td>\n",
       "      <td>57</td>\n",
       "      <td>68</td>\n",
       "      <td>42</td>\n",
       "      <td>558</td>\n",
       "      <td>0.272727</td>\n",
       "      <td>0.317226</td>\n",
       "      <td>0.331169</td>\n",
       "      <td>0.312109</td>\n",
       "    </tr>\n",
       "    <tr>\n",
       "      <th>1</th>\n",
       "      <td>HOBBIES_1_002_CA_1_validation</td>\n",
       "      <td>HOBBIES_1_002</td>\n",
       "      <td>HOBBIES_1</td>\n",
       "      <td>HOBBIES</td>\n",
       "      <td>CA_1</td>\n",
       "      <td>CA</td>\n",
       "      <td>0</td>\n",
       "      <td>0</td>\n",
       "      <td>0</td>\n",
       "      <td>0</td>\n",
       "      <td>...</td>\n",
       "      <td>31</td>\n",
       "      <td>47</td>\n",
       "      <td>38</td>\n",
       "      <td>107</td>\n",
       "      <td>40</td>\n",
       "      <td>453</td>\n",
       "      <td>0.259740</td>\n",
       "      <td>0.257533</td>\n",
       "      <td>0.344156</td>\n",
       "      <td>0.250142</td>\n",
       "    </tr>\n",
       "    <tr>\n",
       "      <th>2</th>\n",
       "      <td>HOBBIES_1_003_CA_1_validation</td>\n",
       "      <td>HOBBIES_1_003</td>\n",
       "      <td>HOBBIES_1</td>\n",
       "      <td>HOBBIES</td>\n",
       "      <td>CA_1</td>\n",
       "      <td>CA</td>\n",
       "      <td>0</td>\n",
       "      <td>0</td>\n",
       "      <td>0</td>\n",
       "      <td>0</td>\n",
       "      <td>...</td>\n",
       "      <td>29</td>\n",
       "      <td>16</td>\n",
       "      <td>23</td>\n",
       "      <td>47</td>\n",
       "      <td>18</td>\n",
       "      <td>270</td>\n",
       "      <td>0.116883</td>\n",
       "      <td>0.153496</td>\n",
       "      <td>0.175325</td>\n",
       "      <td>0.148380</td>\n",
       "    </tr>\n",
       "    <tr>\n",
       "      <th>3</th>\n",
       "      <td>HOBBIES_1_004_CA_1_validation</td>\n",
       "      <td>HOBBIES_1_004</td>\n",
       "      <td>HOBBIES_1</td>\n",
       "      <td>HOBBIES</td>\n",
       "      <td>CA_1</td>\n",
       "      <td>CA</td>\n",
       "      <td>0</td>\n",
       "      <td>0</td>\n",
       "      <td>0</td>\n",
       "      <td>0</td>\n",
       "      <td>...</td>\n",
       "      <td>279</td>\n",
       "      <td>277</td>\n",
       "      <td>269</td>\n",
       "      <td>266</td>\n",
       "      <td>262</td>\n",
       "      <td>3026</td>\n",
       "      <td>1.701299</td>\n",
       "      <td>1.720296</td>\n",
       "      <td>1.889610</td>\n",
       "      <td>1.703809</td>\n",
       "    </tr>\n",
       "    <tr>\n",
       "      <th>4</th>\n",
       "      <td>HOBBIES_1_005_CA_1_validation</td>\n",
       "      <td>HOBBIES_1_005</td>\n",
       "      <td>HOBBIES_1</td>\n",
       "      <td>HOBBIES</td>\n",
       "      <td>CA_1</td>\n",
       "      <td>CA</td>\n",
       "      <td>0</td>\n",
       "      <td>0</td>\n",
       "      <td>0</td>\n",
       "      <td>0</td>\n",
       "      <td>...</td>\n",
       "      <td>185</td>\n",
       "      <td>178</td>\n",
       "      <td>177</td>\n",
       "      <td>206</td>\n",
       "      <td>129</td>\n",
       "      <td>1720</td>\n",
       "      <td>0.837662</td>\n",
       "      <td>0.977828</td>\n",
       "      <td>1.129870</td>\n",
       "      <td>0.952246</td>\n",
       "    </tr>\n",
       "  </tbody>\n",
       "</table>\n",
       "<p>5 rows × 1944 columns</p>\n",
       "</div>"
      ],
      "text/plain": [
       "                              id        item_id    dept_id   cat_id store_id  \\\n",
       "0  HOBBIES_1_001_CA_1_validation  HOBBIES_1_001  HOBBIES_1  HOBBIES     CA_1   \n",
       "1  HOBBIES_1_002_CA_1_validation  HOBBIES_1_002  HOBBIES_1  HOBBIES     CA_1   \n",
       "2  HOBBIES_1_003_CA_1_validation  HOBBIES_1_003  HOBBIES_1  HOBBIES     CA_1   \n",
       "3  HOBBIES_1_004_CA_1_validation  HOBBIES_1_004  HOBBIES_1  HOBBIES     CA_1   \n",
       "4  HOBBIES_1_005_CA_1_validation  HOBBIES_1_005  HOBBIES_1  HOBBIES     CA_1   \n",
       "\n",
       "  state_id  d_1  d_2  d_3  d_4  ...  total_9  total_10  total_11  total_12  \\\n",
       "0       CA    0    0    0    0  ...       56        50        57        68   \n",
       "1       CA    0    0    0    0  ...       31        47        38       107   \n",
       "2       CA    0    0    0    0  ...       29        16        23        47   \n",
       "3       CA    0    0    0    0  ...      279       277       269       266   \n",
       "4       CA    0    0    0    0  ...      185       178       177       206   \n",
       "\n",
       "   event_sales  non_event_sales  avg_event_sales  avg_non_event_sales  \\\n",
       "0           42              558         0.272727             0.317226   \n",
       "1           40              453         0.259740             0.257533   \n",
       "2           18              270         0.116883             0.153496   \n",
       "3          262             3026         1.701299             1.720296   \n",
       "4          129             1720         0.837662             0.977828   \n",
       "\n",
       "   avg_before_event_sales  avg_other_sales  \n",
       "0                0.331169         0.312109  \n",
       "1                0.344156         0.250142  \n",
       "2                0.175325         0.148380  \n",
       "3                1.889610         1.703809  \n",
       "4                1.129870         0.952246  \n",
       "\n",
       "[5 rows x 1944 columns]"
      ]
     },
     "execution_count": 634,
     "metadata": {},
     "output_type": "execute_result"
    }
   ],
   "source": [
    "train_df.head()"
   ]
  },
  {
   "cell_type": "code",
   "execution_count": 633,
   "metadata": {
    "ExecuteTime": {
     "end_time": "2020-05-23T21:19:45.442092Z",
     "start_time": "2020-05-23T21:19:45.338121Z"
    }
   },
   "outputs": [
    {
     "data": {
      "text/html": [
       "<div>\n",
       "<style scoped>\n",
       "    .dataframe tbody tr th:only-of-type {\n",
       "        vertical-align: middle;\n",
       "    }\n",
       "\n",
       "    .dataframe tbody tr th {\n",
       "        vertical-align: top;\n",
       "    }\n",
       "\n",
       "    .dataframe thead th {\n",
       "        text-align: right;\n",
       "    }\n",
       "</style>\n",
       "<table border=\"1\" class=\"dataframe\">\n",
       "  <thead>\n",
       "    <tr style=\"text-align: right;\">\n",
       "      <th></th>\n",
       "      <th>store_id</th>\n",
       "      <th>item_id</th>\n",
       "      <th>wm_yr_wk</th>\n",
       "      <th>sell_price</th>\n",
       "    </tr>\n",
       "  </thead>\n",
       "  <tbody>\n",
       "    <tr>\n",
       "      <th>0</th>\n",
       "      <td>CA_1</td>\n",
       "      <td>HOBBIES_1_001</td>\n",
       "      <td>11325</td>\n",
       "      <td>9.578125</td>\n",
       "    </tr>\n",
       "    <tr>\n",
       "      <th>1</th>\n",
       "      <td>CA_1</td>\n",
       "      <td>HOBBIES_1_001</td>\n",
       "      <td>11326</td>\n",
       "      <td>9.578125</td>\n",
       "    </tr>\n",
       "    <tr>\n",
       "      <th>2</th>\n",
       "      <td>CA_1</td>\n",
       "      <td>HOBBIES_1_001</td>\n",
       "      <td>11327</td>\n",
       "      <td>8.257812</td>\n",
       "    </tr>\n",
       "    <tr>\n",
       "      <th>3</th>\n",
       "      <td>CA_1</td>\n",
       "      <td>HOBBIES_1_001</td>\n",
       "      <td>11328</td>\n",
       "      <td>8.257812</td>\n",
       "    </tr>\n",
       "    <tr>\n",
       "      <th>4</th>\n",
       "      <td>CA_1</td>\n",
       "      <td>HOBBIES_1_001</td>\n",
       "      <td>11329</td>\n",
       "      <td>8.257812</td>\n",
       "    </tr>\n",
       "  </tbody>\n",
       "</table>\n",
       "</div>"
      ],
      "text/plain": [
       "  store_id        item_id  wm_yr_wk  sell_price\n",
       "0     CA_1  HOBBIES_1_001     11325    9.578125\n",
       "1     CA_1  HOBBIES_1_001     11326    9.578125\n",
       "2     CA_1  HOBBIES_1_001     11327    8.257812\n",
       "3     CA_1  HOBBIES_1_001     11328    8.257812\n",
       "4     CA_1  HOBBIES_1_001     11329    8.257812"
      ]
     },
     "execution_count": 633,
     "metadata": {},
     "output_type": "execute_result"
    }
   ],
   "source": [
    "sales_df.head()"
   ]
  },
  {
   "cell_type": "code",
   "execution_count": null,
   "metadata": {},
   "outputs": [],
   "source": []
  }
 ],
 "metadata": {
  "kernelspec": {
   "display_name": "Python 3",
   "language": "python",
   "name": "python3"
  },
  "language_info": {
   "codemirror_mode": {
    "name": "ipython",
    "version": 3
   },
   "file_extension": ".py",
   "mimetype": "text/x-python",
   "name": "python",
   "nbconvert_exporter": "python",
   "pygments_lexer": "ipython3",
   "version": "3.7.6"
  },
  "varInspector": {
   "cols": {
    "lenName": 16,
    "lenType": 16,
    "lenVar": 40
   },
   "kernels_config": {
    "python": {
     "delete_cmd_postfix": "",
     "delete_cmd_prefix": "del ",
     "library": "var_list.py",
     "varRefreshCmd": "print(var_dic_list())"
    },
    "r": {
     "delete_cmd_postfix": ") ",
     "delete_cmd_prefix": "rm(",
     "library": "var_list.r",
     "varRefreshCmd": "cat(var_dic_list()) "
    }
   },
   "types_to_exclude": [
    "module",
    "function",
    "builtin_function_or_method",
    "instance",
    "_Feature"
   ],
   "window_display": false
  }
 },
 "nbformat": 4,
 "nbformat_minor": 4
}
